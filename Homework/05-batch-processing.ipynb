{
 "cells": [
  {
   "cell_type": "markdown",
   "id": "ea508a8b",
   "metadata": {},
   "source": [
    "For this homework we will be using the Yellow 2024-10 data from the official website: \n",
    "\n",
    "```bash\n",
    "wget https://d37ci6vzurychx.cloudfront.net/trip-data/yellow_tripdata_2024-10.parquet\n",
    "```"
   ]
  },
  {
   "cell_type": "markdown",
   "id": "cbf9b733",
   "metadata": {},
   "source": [
    "## Question 1: Install Spark and PySpark\n",
    "\n",
    "- Install Spark\n",
    "- Run PySpark\n",
    "- Create a local spark session\n",
    "- Execute spark.version.\n",
    "\n",
    "What's the output?\n",
    "\n",
    "### Answer \n",
    "\n",
    "- See two cells below"
   ]
  },
  {
   "cell_type": "code",
   "execution_count": 1,
   "id": "d473ee24",
   "metadata": {},
   "outputs": [
    {
     "name": "stderr",
     "output_type": "stream",
     "text": [
      "Setting default log level to \"WARN\".\n",
      "To adjust logging level use sc.setLogLevel(newLevel). For SparkR, use setLogLevel(newLevel).\n"
     ]
    },
    {
     "name": "stdout",
     "output_type": "stream",
     "text": [
      "25/06/03 17:00:09 WARN NativeCodeLoader: Unable to load native-hadoop library for your platform... using builtin-java classes where applicable\n"
     ]
    }
   ],
   "source": [
    "import pyspark\n",
    "from pyspark.sql import SparkSession\n",
    "from pyspark.sql import types\n",
    "from pyspark.sql import functions as F\n",
    "\n",
    "spark = SparkSession.builder \\\n",
    "    .master(\"local[*]\") \\\n",
    "    .appName('test') \\\n",
    "    .getOrCreate()"
   ]
  },
  {
   "cell_type": "code",
   "execution_count": 2,
   "id": "2069aae0",
   "metadata": {},
   "outputs": [
    {
     "data": {
      "text/plain": [
       "'3.3.2'"
      ]
     },
     "execution_count": 2,
     "metadata": {},
     "output_type": "execute_result"
    }
   ],
   "source": [
    "pyspark.__version__\n",
    "\n",
    "\n"
   ]
  },
  {
   "cell_type": "markdown",
   "id": "c99aef5f",
   "metadata": {},
   "source": [
    "## Question 2: Yellow October 2024\n",
    "\n",
    "Read the October 2024 Yellow into a Spark Dataframe.\n",
    "\n",
    "Repartition the Dataframe to 4 partitions and save it to parquet.\n",
    "\n",
    "What is the average size of the Parquet (ending with .parquet extension) Files that were created (in MB)? Select the answer which most closely matches.\n",
    "\n",
    "### Answer\n",
    "\n",
    "- 25MB"
   ]
  },
  {
   "cell_type": "code",
   "execution_count": 3,
   "id": "4c1a1b43",
   "metadata": {},
   "outputs": [
    {
     "name": "stdout",
     "output_type": "stream",
     "text": [
      "--2025-06-03 17:00:17--  https://d37ci6vzurychx.cloudfront.net/trip-data/yellow_tripdata_2024-10.parquet\n",
      "Resolving d37ci6vzurychx.cloudfront.net (d37ci6vzurychx.cloudfront.net)... 18.239.238.152, 18.239.238.212, 18.239.238.133, ...\n",
      "Connecting to d37ci6vzurychx.cloudfront.net (d37ci6vzurychx.cloudfront.net)|18.239.238.152|:443... connected.\n",
      "HTTP request sent, awaiting response... 200 OK\n",
      "Length: 64346071 (61M) [binary/octet-stream]\n",
      "Saving to: ‘yellow_tripdata_2024-10.parquet.1’\n",
      "\n",
      "yellow_tripdata_202 100%[===================>]  61.36M   225MB/s    in 0.3s    \n",
      "\n",
      "2025-06-03 17:00:17 (225 MB/s) - ‘yellow_tripdata_2024-10.parquet.1’ saved [64346071/64346071]\n",
      "\n"
     ]
    }
   ],
   "source": [
    "!wget https://d37ci6vzurychx.cloudfront.net/trip-data/yellow_tripdata_2024-10.parquet"
   ]
  },
  {
   "cell_type": "code",
   "execution_count": 4,
   "id": "7cecb686",
   "metadata": {},
   "outputs": [
    {
     "name": "stderr",
     "output_type": "stream",
     "text": [
      "                                                                                \r"
     ]
    }
   ],
   "source": [
    "df_yellow = spark.read.parquet('yellow_tripdata_2024-10.parquet')"
   ]
  },
  {
   "cell_type": "code",
   "execution_count": 5,
   "id": "eae7d341",
   "metadata": {},
   "outputs": [
    {
     "name": "stdout",
     "output_type": "stream",
     "text": [
      "root\n",
      " |-- VendorID: integer (nullable = true)\n",
      " |-- tpep_pickup_datetime: timestamp (nullable = true)\n",
      " |-- tpep_dropoff_datetime: timestamp (nullable = true)\n",
      " |-- passenger_count: long (nullable = true)\n",
      " |-- trip_distance: double (nullable = true)\n",
      " |-- RatecodeID: long (nullable = true)\n",
      " |-- store_and_fwd_flag: string (nullable = true)\n",
      " |-- PULocationID: integer (nullable = true)\n",
      " |-- DOLocationID: integer (nullable = true)\n",
      " |-- payment_type: long (nullable = true)\n",
      " |-- fare_amount: double (nullable = true)\n",
      " |-- extra: double (nullable = true)\n",
      " |-- mta_tax: double (nullable = true)\n",
      " |-- tip_amount: double (nullable = true)\n",
      " |-- tolls_amount: double (nullable = true)\n",
      " |-- improvement_surcharge: double (nullable = true)\n",
      " |-- total_amount: double (nullable = true)\n",
      " |-- congestion_surcharge: double (nullable = true)\n",
      " |-- Airport_fee: double (nullable = true)\n",
      "\n"
     ]
    }
   ],
   "source": [
    "df_yellow.printSchema()\n"
   ]
  },
  {
   "cell_type": "code",
   "execution_count": 6,
   "id": "1326669b",
   "metadata": {},
   "outputs": [
    {
     "name": "stderr",
     "output_type": "stream",
     "text": [
      "                                                                                \r"
     ]
    }
   ],
   "source": [
    "df_yellow = df_yellow.repartition(4)\n",
    "df_yellow.write.parquet('data-out')"
   ]
  },
  {
   "cell_type": "code",
   "execution_count": 7,
   "id": "df5bfa06",
   "metadata": {
    "scrolled": true
   },
   "outputs": [
    {
     "name": "stdout",
     "output_type": "stream",
     "text": [
      "total 100M\r\n",
      "-rw-r--r-- 1 willwaight394 willwaight394   0 Jun  3 17:03 _SUCCESS\r\n",
      "-rw-r--r-- 1 willwaight394 willwaight394 25M Jun  3 17:03 part-00000-245e3b93-8167-40e8-a04a-48ce46c0cbc0-c000.snappy.parquet\r\n",
      "-rw-r--r-- 1 willwaight394 willwaight394 25M Jun  3 17:03 part-00001-245e3b93-8167-40e8-a04a-48ce46c0cbc0-c000.snappy.parquet\r\n",
      "-rw-r--r-- 1 willwaight394 willwaight394 25M Jun  3 17:03 part-00002-245e3b93-8167-40e8-a04a-48ce46c0cbc0-c000.snappy.parquet\r\n",
      "-rw-r--r-- 1 willwaight394 willwaight394 25M Jun  3 17:03 part-00003-245e3b93-8167-40e8-a04a-48ce46c0cbc0-c000.snappy.parquet\r\n"
     ]
    }
   ],
   "source": [
    "ls -lh data-out"
   ]
  },
  {
   "cell_type": "markdown",
   "id": "a5e57da3",
   "metadata": {},
   "source": [
    "## Question 3: Count records \n",
    "\n",
    "How many taxi trips were there on the 15th of October?\n",
    "\n",
    "Consider only trips that started on the 15th of October.\n",
    "\n",
    "### Answer\n",
    "\n",
    "- 128,893"
   ]
  },
  {
   "cell_type": "code",
   "execution_count": 9,
   "id": "2c3ae340",
   "metadata": {
    "scrolled": true
   },
   "outputs": [
    {
     "name": "stderr",
     "output_type": "stream",
     "text": [
      "                                                                                \r"
     ]
    },
    {
     "data": {
      "text/plain": [
       "[Row(VendorID=2, tpep_pickup_datetime=datetime.datetime(2024, 10, 4, 23, 19, 27), tpep_dropoff_datetime=datetime.datetime(2024, 10, 4, 23, 43, 28), passenger_count=1, trip_distance=6.07, RatecodeID=1, store_and_fwd_flag='N', PULocationID=229, DOLocationID=231, payment_type=1, fare_amount=31.0, extra=1.0, mta_tax=0.5, tip_amount=4.0, tolls_amount=0.0, improvement_surcharge=1.0, total_amount=40.0, congestion_surcharge=2.5, Airport_fee=0.0),\n",
       " Row(VendorID=2, tpep_pickup_datetime=datetime.datetime(2024, 10, 12, 22, 54, 1), tpep_dropoff_datetime=datetime.datetime(2024, 10, 12, 23, 18, 59), passenger_count=1, trip_distance=10.15, RatecodeID=1, store_and_fwd_flag='N', PULocationID=138, DOLocationID=25, payment_type=1, fare_amount=41.5, extra=6.0, mta_tax=0.5, tip_amount=9.8, tolls_amount=0.0, improvement_surcharge=1.0, total_amount=60.55, congestion_surcharge=0.0, Airport_fee=1.75),\n",
       " Row(VendorID=2, tpep_pickup_datetime=datetime.datetime(2024, 10, 12, 17, 7, 34), tpep_dropoff_datetime=datetime.datetime(2024, 10, 12, 17, 19, 1), passenger_count=2, trip_distance=4.34, RatecodeID=1, store_and_fwd_flag='N', PULocationID=132, DOLocationID=132, payment_type=4, fare_amount=19.1, extra=0.0, mta_tax=0.5, tip_amount=0.0, tolls_amount=0.0, improvement_surcharge=1.0, total_amount=22.35, congestion_surcharge=0.0, Airport_fee=1.75),\n",
       " Row(VendorID=2, tpep_pickup_datetime=datetime.datetime(2024, 10, 4, 14, 17, 41), tpep_dropoff_datetime=datetime.datetime(2024, 10, 4, 14, 26, 47), passenger_count=1, trip_distance=1.1, RatecodeID=1, store_and_fwd_flag='N', PULocationID=113, DOLocationID=211, payment_type=1, fare_amount=9.3, extra=0.0, mta_tax=0.5, tip_amount=2.66, tolls_amount=0.0, improvement_surcharge=1.0, total_amount=15.96, congestion_surcharge=2.5, Airport_fee=0.0),\n",
       " Row(VendorID=2, tpep_pickup_datetime=datetime.datetime(2024, 10, 14, 16, 35, 10), tpep_dropoff_datetime=datetime.datetime(2024, 10, 14, 16, 51, 20), passenger_count=1, trip_distance=1.27, RatecodeID=1, store_and_fwd_flag='N', PULocationID=170, DOLocationID=48, payment_type=1, fare_amount=14.9, extra=0.0, mta_tax=0.5, tip_amount=1.75, tolls_amount=0.0, improvement_surcharge=1.0, total_amount=20.65, congestion_surcharge=2.5, Airport_fee=0.0)]"
      ]
     },
     "execution_count": 9,
     "metadata": {},
     "output_type": "execute_result"
    }
   ],
   "source": [
    "df_yellow.take(5)"
   ]
  },
  {
   "cell_type": "code",
   "execution_count": null,
   "id": "fa883ce4",
   "metadata": {},
   "outputs": [],
   "source": [
    "df_yellow.createOrReplaceTempView('october_yellow_taxi_trips')"
   ]
  },
  {
   "cell_type": "markdown",
   "id": "8411e4ab",
   "metadata": {},
   "source": [
    "> *Note: Must create a temporary view in order to reference schema for sql query*"
   ]
  },
  {
   "cell_type": "code",
   "execution_count": null,
   "id": "a0f2b664",
   "metadata": {},
   "outputs": [
    {
     "name": "stderr",
     "output_type": "stream",
     "text": [
      "[Stage 28:=============================>                            (1 + 1) / 2]\r"
     ]
    },
    {
     "name": "stdout",
     "output_type": "stream",
     "text": [
      "+---------+\n",
      "|num_trips|\n",
      "+---------+\n",
      "|   128893|\n",
      "+---------+\n",
      "\n"
     ]
    },
    {
     "name": "stderr",
     "output_type": "stream",
     "text": [
      "\r\n",
      "                                                                                \r"
     ]
    }
   ],
   "source": [
    "spark.sql(\"\"\"\n",
    "SELECT\n",
    "    count(1) as num_trips\n",
    "FROM\n",
    "    october_yellow_taxi_trips\n",
    "WHERE\n",
    "    CAST(tpep_pickup_datetime as DATE) = '2024-10-15'\n",
    "AND \n",
    "    tpep_dropoff_datetime IS NOT NULL\n",
    "\"\"\").show()"
   ]
  },
  {
   "cell_type": "markdown",
   "id": "9b0e0e09",
   "metadata": {},
   "source": [
    "## Question 4: Longest trip\n",
    "\n",
    "What is the length of the longest trip in the dataset in hours?\n",
    "\n",
    "### Answer \n",
    "\n",
    "- 162 hours"
   ]
  },
  {
   "cell_type": "code",
   "execution_count": 18,
   "id": "6e2773c0",
   "metadata": {},
   "outputs": [
    {
     "name": "stderr",
     "output_type": "stream",
     "text": [
      "[Stage 40:=============================>                            (2 + 2) / 4]\r"
     ]
    },
    {
     "name": "stdout",
     "output_type": "stream",
     "text": [
      "+------------------+\n",
      "|          duration|\n",
      "+------------------+\n",
      "| 162.6177777777778|\n",
      "|           143.325|\n",
      "|137.76055555555556|\n",
      "|114.83472222222221|\n",
      "| 89.89833333333333|\n",
      "+------------------+\n",
      "\n"
     ]
    },
    {
     "name": "stderr",
     "output_type": "stream",
     "text": [
      "\r\n",
      "                                                                                \r"
     ]
    }
   ],
   "source": [
    "df_yellow_longest = df_yellow.withColumn('duration', (df_yellow.tpep_dropoff_datetime.cast('long') - df_yellow.tpep_pickup_datetime.cast('long'))/60/60) \\\n",
    ".select('duration') \\\n",
    ".orderBy('duration', ascending=False) \\\n",
    ".limit(5) \\\n",
    ".show()\n"
   ]
  },
  {
   "cell_type": "markdown",
   "id": "191239bb",
   "metadata": {},
   "source": [
    "## Question 5: User Interface\n",
    "\n",
    "Spark’s User Interface which shows the application's dashboard runs on which local port?\n",
    "\n",
    "### Answer \n",
    "\n",
    "- 4040\n"
   ]
  },
  {
   "cell_type": "markdown",
   "id": "f5ea9161",
   "metadata": {},
   "source": [
    "## Question 6: Least frequent pickup location zone\n",
    "\n",
    "Load the zone lookup data into a temp view in Spark:\n",
    "\n",
    "```bash\n",
    "wget https://d37ci6vzurychx.cloudfront.net/misc/taxi_zone_lookup.csv\n",
    "```\n",
    "\n",
    "Using the zone lookup data and the Yellow October 2024 data, what is the name of the LEAST frequent pickup location Zone?\n",
    "\n",
    "### Answer \n",
    "\n",
    "- Both 'Freshkills Park' and 'Great Kills Park' have only one trip each."
   ]
  },
  {
   "cell_type": "code",
   "execution_count": 20,
   "id": "408c3986",
   "metadata": {},
   "outputs": [
    {
     "name": "stdout",
     "output_type": "stream",
     "text": [
      "--2025-06-03 17:21:45--  https://d37ci6vzurychx.cloudfront.net/misc/taxi_zone_lookup.csv\n",
      "Resolving d37ci6vzurychx.cloudfront.net (d37ci6vzurychx.cloudfront.net)... 18.239.238.119, 18.239.238.152, 18.239.238.133, ...\n",
      "Connecting to d37ci6vzurychx.cloudfront.net (d37ci6vzurychx.cloudfront.net)|18.239.238.119|:443... connected.\n",
      "HTTP request sent, awaiting response... 200 OK\n",
      "Length: 12331 (12K) [text/csv]\n",
      "Saving to: ‘taxi_zone_lookup.csv.1’\n",
      "\n",
      "taxi_zone_lookup.cs 100%[===================>]  12.04K  --.-KB/s    in 0s      \n",
      "\n",
      "2025-06-03 17:21:45 (116 MB/s) - ‘taxi_zone_lookup.csv.1’ saved [12331/12331]\n",
      "\n"
     ]
    }
   ],
   "source": [
    "!wget https://d37ci6vzurychx.cloudfront.net/misc/taxi_zone_lookup.csv"
   ]
  },
  {
   "cell_type": "code",
   "execution_count": 27,
   "id": "bfd2d6a7",
   "metadata": {},
   "outputs": [],
   "source": [
    "df_zones_least = spark.read.option(\"header\", \"true\").csv('taxi_zone_lookup.csv.1')"
   ]
  },
  {
   "cell_type": "markdown",
   "id": "dccfce31",
   "metadata": {},
   "source": [
    "> *Note: Must specify option to include headers in order to clearly in reference in sql query*"
   ]
  },
  {
   "cell_type": "code",
   "execution_count": 28,
   "id": "1e49b024",
   "metadata": {},
   "outputs": [
    {
     "name": "stdout",
     "output_type": "stream",
     "text": [
      "+----------+-------------+--------------------+------------+\n",
      "|LocationID|      Borough|                Zone|service_zone|\n",
      "+----------+-------------+--------------------+------------+\n",
      "|         1|          EWR|      Newark Airport|         EWR|\n",
      "|         2|       Queens|         Jamaica Bay|   Boro Zone|\n",
      "|         3|        Bronx|Allerton/Pelham G...|   Boro Zone|\n",
      "|         4|    Manhattan|       Alphabet City| Yellow Zone|\n",
      "|         5|Staten Island|       Arden Heights|   Boro Zone|\n",
      "|         6|Staten Island|Arrochar/Fort Wad...|   Boro Zone|\n",
      "|         7|       Queens|             Astoria|   Boro Zone|\n",
      "|         8|       Queens|        Astoria Park|   Boro Zone|\n",
      "|         9|       Queens|          Auburndale|   Boro Zone|\n",
      "|        10|       Queens|        Baisley Park|   Boro Zone|\n",
      "|        11|     Brooklyn|          Bath Beach|   Boro Zone|\n",
      "|        12|    Manhattan|        Battery Park| Yellow Zone|\n",
      "|        13|    Manhattan|   Battery Park City| Yellow Zone|\n",
      "|        14|     Brooklyn|           Bay Ridge|   Boro Zone|\n",
      "|        15|       Queens|Bay Terrace/Fort ...|   Boro Zone|\n",
      "|        16|       Queens|             Bayside|   Boro Zone|\n",
      "|        17|     Brooklyn|             Bedford|   Boro Zone|\n",
      "|        18|        Bronx|        Bedford Park|   Boro Zone|\n",
      "|        19|       Queens|           Bellerose|   Boro Zone|\n",
      "|        20|        Bronx|             Belmont|   Boro Zone|\n",
      "+----------+-------------+--------------------+------------+\n",
      "only showing top 20 rows\n",
      "\n"
     ]
    }
   ],
   "source": [
    "df_zones_least.show()"
   ]
  },
  {
   "cell_type": "code",
   "execution_count": 29,
   "id": "f4c55367",
   "metadata": {},
   "outputs": [],
   "source": [
    "df_zones_least.createOrReplaceTempView(\"least_frequent_zones\")"
   ]
  },
  {
   "cell_type": "code",
   "execution_count": null,
   "id": "e8c6668c",
   "metadata": {},
   "outputs": [
    {
     "name": "stderr",
     "output_type": "stream",
     "text": [
      "                                                                                \r"
     ]
    },
    {
     "data": {
      "text/plain": [
       "[Row(Zone='Freshkills Park', num_trips=1),\n",
       " Row(Zone='Great Kills Park', num_trips=1),\n",
       " Row(Zone='Rikers Island', num_trips=2),\n",
       " Row(Zone='Arden Heights', num_trips=2),\n",
       " Row(Zone=\"Governor's Island/Ellis Island/Liberty Island\", num_trips=3)]"
      ]
     },
     "execution_count": 33,
     "metadata": {},
     "output_type": "execute_result"
    }
   ],
   "source": [
    "spark.sql(\"\"\"\n",
    "SELECT\n",
    "    lfz.Zone, \n",
    "    count(*) as num_trips\n",
    "FROM\n",
    "    least_frequent_zones as lfz\n",
    "LEFT JOIN\n",
    "    october_yellow_taxi_trips as oct\n",
    "ON \n",
    "    lfz.LocationID = oct.PULocationID\n",
    "GROUP BY \n",
    "    1\n",
    "ORDER BY \n",
    "    2 ASC\n",
    "\"\"\").take(5)"
   ]
  },
  {
   "cell_type": "code",
   "execution_count": null,
   "id": "1544f734",
   "metadata": {},
   "outputs": [],
   "source": []
  }
 ],
 "metadata": {
  "kernelspec": {
   "display_name": "Python 3 (ipykernel)",
   "language": "python",
   "name": "python3"
  },
  "language_info": {
   "codemirror_mode": {
    "name": "ipython",
    "version": 3
   },
   "file_extension": ".py",
   "mimetype": "text/x-python",
   "name": "python",
   "nbconvert_exporter": "python",
   "pygments_lexer": "ipython3",
   "version": "3.11.2"
  }
 },
 "nbformat": 4,
 "nbformat_minor": 5
}
